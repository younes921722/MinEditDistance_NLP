{
  "nbformat": 4,
  "nbformat_minor": 0,
  "metadata": {
    "colab": {
      "provenance": []
    },
    "kernelspec": {
      "name": "python3",
      "display_name": "Python 3"
    },
    "language_info": {
      "name": "python"
    }
  },
  "cells": [
    {
      "cell_type": "markdown",
      "source": [
        "Minimum Edit Distance Algorithm from scratch"
      ],
      "metadata": {
        "id": "pEwTy0zMx4Ts"
      }
    },
    {
      "cell_type": "code",
      "source": [
        "def min_Edit_Distance(str1,str2):\n",
        "\n",
        "  T =[[0 for x in range(len(str1)+1)] for y in range(len(str2)+1)]\n",
        "  for i in range(len(str1)+1):\n",
        "    for j in range(len(str2)+1):\n",
        "      if(i == 0 and j == 0 ):\n",
        "        T[i][j] = 0\n",
        "\n",
        "      elif (i == 0):\n",
        "        T[i][j] = T[i][j-1] +1\n",
        "\n",
        "      elif (j == 0):\n",
        "        T[i][j] = T[i-1][j] +1\n",
        "\n",
        "      else:\n",
        "        if (str1[i-1] == str2[j-1]):\n",
        "          T[i][j] = T[i-1][j-1]\n",
        "\n",
        "        else:\n",
        "          T[i][j] = 1 + min(T[i][j-1], T[i-1][j-1], T[i-1][j]) # min ( insertion , replace, remove)\n",
        "\n",
        "  return T\n"
      ],
      "metadata": {
        "id": "h7pAUveaw1-o"
      },
      "execution_count": 20,
      "outputs": []
    },
    {
      "cell_type": "code",
      "source": [
        "str1 = \"abcfg\"\n",
        "str2 = \"adceg\"\n",
        "T = min_Edit_Distance(str1, str2)\n"
      ],
      "metadata": {
        "id": "Wn2EBzyDyFxV"
      },
      "execution_count": 21,
      "outputs": []
    },
    {
      "cell_type": "code",
      "source": [
        "print(T[1][5])\n"
      ],
      "metadata": {
        "colab": {
          "base_uri": "https://localhost:8080/"
        },
        "id": "5NrEW4sGyc5e",
        "outputId": "9c28f07f-9c22-43db-be8b-ac881a7e4146"
      },
      "execution_count": 22,
      "outputs": [
        {
          "output_type": "stream",
          "name": "stdout",
          "text": [
            "4\n"
          ]
        }
      ]
    },
    {
      "cell_type": "code",
      "source": [],
      "metadata": {
        "id": "x1nWQhRbygEA"
      },
      "execution_count": null,
      "outputs": []
    }
  ]
}